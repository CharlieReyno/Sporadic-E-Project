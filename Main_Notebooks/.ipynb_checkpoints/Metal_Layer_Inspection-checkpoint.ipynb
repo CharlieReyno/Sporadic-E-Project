{
 "cells": [
  {
   "cell_type": "code",
   "execution_count": 1,
   "id": "85a61562-be60-4fc2-be43-67cae9762795",
   "metadata": {},
   "outputs": [
    {
     "name": "stderr",
     "output_type": "stream",
     "text": [
      "/tmp/ipykernel_158975/2713065812.py:13: MatplotlibDeprecationWarning: The get_cmap function was deprecated in Matplotlib 3.7 and will be removed in 3.11. Use ``matplotlib.colormaps[name]`` or ``matplotlib.colormaps.get_cmap()`` or ``pyplot.get_cmap()`` instead.\n",
      "  jet = mcm.get_cmap('jet') if isinstance(mcm.get_cmap('jet'), str) else mcm.get_cmap('jet')\n"
     ]
    }
   ],
   "source": [
    "import xarray as xr\n",
    "import numpy as np\n",
    "from datetime import datetime, timedelta\n",
    "import matplotlib.pyplot as plt \n",
    "from matplotlib import ticker, cm\n",
    "import matplotlib.cm as mcm\n",
    "from matplotlib.ticker import MaxNLocator\n",
    "import matplotlib.colors as colors\n",
    "import matplotlib.dates as mdates\n",
    "from matplotlib.colors import LogNorm\n",
    "from matplotlib.colors import Normalize\n",
    "from matplotlib.ticker import FuncFormatter\n",
    "jet = mcm.get_cmap('jet') if isinstance(mcm.get_cmap('jet'), str) else mcm.get_cmap('jet')\n",
    "import netCDF4 as nc\n",
    "import cartopy.crs as ccrs # CRS stands for \"Coordinate reference systems\" for map projection\n",
    "from cartopy.crs import PlateCarree\n",
    "import cartopy.feature as cfeature\n",
    "from cartopy.mpl.ticker import LongitudeFormatter, LatitudeFormatter \n",
    "import matplotlib.gridspec as gridspec\n",
    "import os \n",
    "import glob\n",
    "import re\n",
    "import nc_time_axis\n",
    "import time \n",
    "\n",
    "def scientific_formatter(x, pos):\n",
    "    if x == 0:\n",
    "        return \"$0$\"\n",
    "    exponent = int(np.floor(np.log10(x)))\n",
    "    base = round(x / 10**exponent)\n",
    "    if base == 1:\n",
    "        return f\"$10^{{{exponent}}}$\"\n",
    "    else:\n",
    "        return f\"${base} \\\\times 10^{{{exponent}}}$\"\n"
   ]
  },
  {
   "cell_type": "markdown",
   "id": "5baab439-a2b7-4744-bf13-c85c29fd77ec",
   "metadata": {
    "jp-MarkdownHeadingCollapsed": true
   },
   "source": [
    "# Raw code"
   ]
  },
  {
   "cell_type": "code",
   "execution_count": null,
   "id": "7df1f51a-4f0e-4e4c-b6ae-675d2836e22a",
   "metadata": {
    "jupyter": {
     "source_hidden": true
    }
   },
   "outputs": [],
   "source": [
    "testpath = f'/resstore/b0243/Data/Sporadic_E/Solar_Med/archive_yr2000/ACP_CESM213_FX2000_f19_f19_mg16_Na_Fe_Mg_iontransport.cam.h0.0001-01.nc'\n",
    "testfile = xr.open_dataset(testpath, decode_times=False)\n",
    "testfile"
   ]
  },
  {
   "cell_type": "code",
   "execution_count": null,
   "id": "85e91f11-056f-4e87-8043-f7c565583ea6",
   "metadata": {},
   "outputs": [],
   "source": [
    "# lat_bins = np.arange(-90, 95, 5)  # Ensures full 5-degree bins\n",
    "\n",
    "# # Compute bin labels (midpoints of bins)\n",
    "# lat_bin_labels = (lat_bins[:-1] + lat_bins[1:]) / 2  # Midpoints of bins\n",
    "\n",
    "# # Assign each latitude value to a bin index\n",
    "# lat_bin_indices = np.digitize(med_Fe.lat, lat_bins, right=False) - 1\n",
    "# lat_bin_indices = np.clip(lat_bin_indices, 0, len(lat_bin_labels) - 1)\n",
    "\n",
    "# # Convert bin indices to bin midpoints\n",
    "# latitude_bins = xr.DataArray(lat_bin_labels[lat_bin_indices], coords={\"lat\": med_Fe.lat}, dims=\"lat\")\n",
    "\n",
    "# # Add the latitude bins as a new coordinate\n",
    "# med_Fe = med_Fe.assign_coords(latitude_bins=latitude_bins)\n",
    "\n",
    "# print(med_Fe)"
   ]
  },
  {
   "cell_type": "code",
   "execution_count": null,
   "id": "9bb476a2-b5b9-47b4-8165-dd199af02884",
   "metadata": {},
   "outputs": [],
   "source": [
    "# lat_bins = np.arange(-90, 95, 5)  # Ensures full 5-degree bins\n",
    "# lat_bin_labels = (lat_bins[:-1] + lat_bins[1:]) / 2  # Midpoints of bins\n",
    "\n",
    "# # Group by latitude bins and average across lat and longitude\n",
    "# binned_Fe = (\n",
    "#     med_Fe.groupby_bins(\"lat\", lat_bins, labels=lat_bin_labels)\n",
    "#     .mean(dim=[\"lat\", \"lon\"])  # Average over latitudes and longitudes\n",
    "# )\n",
    "\n",
    "# # Reset dimension name by converting `lat_bins` to `lat`\n",
    "# binned_Fe = binned_Fe.rename({\"lat_bins\": \"lat\"})\n",
    "\n",
    "# # Ensure `lat` is a proper coordinate\n",
    "# binned_Fe = binned_Fe.assign_coords(lat=(\"lat\", binned_Fe.lat.values))\n",
    "\n",
    "# print(binned_Fe)"
   ]
  },
  {
   "cell_type": "code",
   "execution_count": null,
   "id": "dc11fdcb-d70a-4c5c-8a98-edb946edd2fa",
   "metadata": {},
   "outputs": [],
   "source": [
    "# fig, ax = plt.subplots()\n",
    "\n",
    "# ax.plot(binned_Fe['lat'], binned_Fe)\n",
    "\n",
    "# plt.show()"
   ]
  },
  {
   "cell_type": "code",
   "execution_count": null,
   "id": "b5fe8c29-823c-4966-8791-0111ace62383",
   "metadata": {},
   "outputs": [],
   "source": [
    "# ds = xr.open_dataset(testpath, decode_times=False)\n",
    "# ds = ds['Fe'].sel(time=31)\n",
    "# ds = np.sum(ds, axis = 0)\n",
    "\n",
    "# lat_bins = np.arange(-90, 95, 5)  # Ensures full 5-degree bins\n",
    "# lat_bin_labels = (lat_bins[:-1] + lat_bins[1:]) / 2  # Midpoints of bins\n",
    "\n",
    "# binned = (\n",
    "#         ds.groupby_bins(\"lat\", lat_bins, labels=lat_bin_labels).mean(dim=[\"lat\", \"lon\"])  # Average over latitudes and longitudes\n",
    "#               )\n",
    "\n",
    "# # Reset dimension name by converting `lat_bins` to `lat`\n",
    "# binned = binned.rename({\"lat_bins\": \"lat\"})\n",
    "\n",
    "# # Ensure `lat` is a proper coordinate\n",
    "# binned = binned.assign_coords(lat=(\"lat\", binned.lat.values))\n",
    "# binned"
   ]
  },
  {
   "cell_type": "code",
   "execution_count": null,
   "id": "2c16e215-b860-4942-8ec3-4c9f230f9ee0",
   "metadata": {},
   "outputs": [],
   "source": [
    "# value = binned.mean(dim='lat')\n",
    "# value = value.item()\n",
    "# value"
   ]
  },
  {
   "cell_type": "markdown",
   "id": "a115127f-b2f9-4c75-9730-23800341f753",
   "metadata": {},
   "source": [
    "Now need to add into new dataset combined with all the other months "
   ]
  },
  {
   "cell_type": "markdown",
   "id": "619a389e-c5a5-429c-93f1-d093202881e2",
   "metadata": {
    "jp-MarkdownHeadingCollapsed": true
   },
   "source": [
    "# Unweighted function"
   ]
  },
  {
   "cell_type": "code",
   "execution_count": null,
   "id": "2cebceac-8113-4832-b8f9-3df401f19b4b",
   "metadata": {},
   "outputs": [],
   "source": [
    "reference = xr.open_dataset(f'/resstore/b0243/Data/Sporadic_E/Solar_Med/archive_yr2000/ACP_CESM213_FX2000_f19_f19_mg16_Na_Fe_Mg_iontransport.cam.h0.0001-01.nc'\n",
    ", decode_times=False)\n",
    "reference"
   ]
  },
  {
   "cell_type": "code",
   "execution_count": null,
   "id": "54b39eb7-64b8-4157-ad87-c244add30007",
   "metadata": {},
   "outputs": [],
   "source": [
    "def metal_layer_month(filepath, metal):\n",
    "\n",
    "    ds = xr.open_dataset(filepath, decode_times=False)\n",
    "    ds = ds[metal].sel(time=ds['time'][-1].item())\n",
    "    ds = np.sum(ds, axis = 0)\n",
    "\n",
    "    lat_bins = np.arange(-90, 95, 5)  # Ensures full 5-degree bins\n",
    "    lat_bin_labels = (lat_bins[:-1] + lat_bins[1:]) / 2  # Midpoints of bins\n",
    "\n",
    "    binned = (\n",
    "            ds.groupby_bins(\"lat\", lat_bins, labels=lat_bin_labels).mean(dim=[\"lat\", \"lon\"])\n",
    "                )\n",
    "\n",
    "    # Reset dimension name by converting `lat_bins` to `lat`\n",
    "    binned = binned.rename({\"lat_bins\": \"lat\"})\n",
    "\n",
    "    # Ensure `lat` is a proper coordinate\n",
    "    binned = binned.assign_coords(lat=(\"lat\", binned.lat.values))\n",
    "    value = binned.mean(dim='lat')\n",
    "    value = value.item()\n",
    "    value\n",
    "    return value"
   ]
  },
  {
   "cell_type": "code",
   "execution_count": null,
   "id": "b84e51fa-ae31-4d17-a446-04240d04ed3a",
   "metadata": {},
   "outputs": [],
   "source": [
    "def metal_layer_year(run_name):\n",
    "    \n",
    "    if run_name == 'Climate Change':\n",
    "        months = {1,2,3,4,5,6,7,8,9,10,11}\n",
    "\n",
    "    else: \n",
    "        months = {1,2,3,4,5,6,7,8,9,10,11,12}\n",
    "\n",
    "    \n",
    "    \n",
    "    year_data = []  # Dictionary to store month-value pairs\n",
    "\n",
    "    for month in months:\n",
    "        \n",
    "        month_str = f\"{month:02}\"\n",
    "        \n",
    "        if run_name == 'Solar Med':\n",
    "            filepath = f'/resstore/b0243/Data/Sporadic_E/Solar_Med/archive_yr2000/ACP_CESM213_FX2000_f19_f19_mg16_Na_Fe_Mg_iontransport.cam.h0.0001-{month_str}.nc'\n",
    "\n",
    "        elif run_name == 'Solar Max':\n",
    "            filepath = f'/resstore/b0243/Data/Sporadic_E/Solar_Max/archive_yr2000/atm/hist/SMax_3M_FX2000_f19f19mg16.cam.h0.0001-{month_str}.nc'\n",
    "    \n",
    "        elif run_name == 'Solar Min':\n",
    "            filepath = f'/resstore/b0243/Data/Sporadic_E/Solar_Min/archive_yr2000/atm/hist/SMin_3M_FX2000_f19f19mg16.cam.h0.0001-{month_str}.nc'\n",
    "\n",
    "        elif run_name == 'Climate Change':\n",
    "            filepath = f'/resstore/b0243/Data/Sporadic_E/FX2100f19f19mg16NaFeMgiontransport_OUTPUT/hist/FX2100f19f19mg16NaFeMgiontransport.cam.h0.2100-{month_str}.nc'\n",
    "    \n",
    "        month_avg =  metal_layer_month(filepath, metal)\n",
    "        print(month_avg)  \n",
    "        year_data.append(month_avg)\n",
    "\n",
    "    return year_data    "
   ]
  },
  {
   "cell_type": "code",
   "execution_count": null,
   "id": "357caf6a-0fde-4dfa-8282-159642ca4007",
   "metadata": {},
   "outputs": [],
   "source": [
    "metal = 'Nap'"
   ]
  },
  {
   "cell_type": "code",
   "execution_count": null,
   "id": "234803fd-9601-49b1-9bf6-069d4cffc9eb",
   "metadata": {},
   "outputs": [],
   "source": [
    "run_name = 'Solar Med' # # OR # 'Solar Med'\n",
    "                            # 'Solar Max'\n",
    "                            # 'Solar Min'\n",
    "                            # 'Climate Change'\n",
    "\n",
    "med_Fe_avg = metal_layer_year(run_name)\n",
    "\n",
    "run_name = 'Solar Max'\n",
    "max_Fe_avg = metal_layer_year(run_name)\n",
    "\n",
    "run_name = 'Solar Min'\n",
    "min_Fe_avg = metal_layer_year(run_name)\n",
    "\n",
    "run_name = 'Climate Change'\n",
    "cli_Fe_avg = metal_layer_year(run_name)"
   ]
  },
  {
   "cell_type": "code",
   "execution_count": null,
   "id": "d17610c3-6b7e-4101-93a5-204c6363634d",
   "metadata": {},
   "outputs": [],
   "source": [
    "months = (1,2,3,4,5,6,7,8,9,10,11,12)\n",
    "\n",
    "fig, ax = plt.subplots()\n",
    "\n",
    "ax.plot(months, \n",
    "        med_Fe_avg,\n",
    "        color='black',\n",
    "        label='Solar Median')\n",
    "\n",
    "ax.plot(months, \n",
    "        max_Fe_avg,\n",
    "        color='green',\n",
    "        label='Solar Max')\n",
    "\n",
    "ax.plot(months, \n",
    "        min_Fe_avg,\n",
    "        color='blue',\n",
    "        label='Solar Min')\n",
    "\n",
    "ax.plot((1,2,3,4,5,6,7,8,9,10,11), \n",
    "        cli_Fe_avg,\n",
    "        color='red',\n",
    "        label='Year 2100')\n",
    "\n",
    "ax.set_title(f'Global average {metal} column abundance')\n",
    "ax.set_xlabel('Month')\n",
    "ax.set_ylabel(f'{metal} concentration (mol / mol)')\n",
    "ax.legend()\n",
    "plt.savefig(f'/home/home02/cm21cmr/Sporadic-E-Project/Figures/column_abun_{metal}', dpi=600, bbox_inches='tight')\n",
    "fplt.show()"
   ]
  },
  {
   "cell_type": "markdown",
   "id": "e0d253b4-933e-43fb-9cea-efed71032b13",
   "metadata": {},
   "source": [
    "# Weighted function"
   ]
  },
  {
   "cell_type": "code",
   "execution_count": 7,
   "id": "61149a51-c6a4-41bc-88a5-268b46eb63b3",
   "metadata": {},
   "outputs": [],
   "source": [
    "def met_col_mon_val(filename, metal):\n",
    "    ds = xr.open_dataset(filename, decode_times=False)\n",
    "    ds = ds[metal].sel(time=ds['time'][-1].item())\n",
    "    ds = np.sum(ds, axis = 0)\n",
    "\n",
    "    weights = np.cos(np.deg2rad(ds.lat))\n",
    "    weights.name = 'weights'\n",
    "    ds_weighted = ds.weighted(weights)\n",
    "    ds_weighted\n",
    "\n",
    "    weighted_mean = ds_weighted.mean((\"lon\", \"lat\"))\n",
    "    \n",
    "    return weighted_mean"
   ]
  },
  {
   "cell_type": "code",
   "execution_count": 15,
   "id": "3f9d2be2-9219-4af9-a333-a8768c2e4e7b",
   "metadata": {},
   "outputs": [],
   "source": [
    "def metal_layer_year_weighted(run_name):\n",
    "    \n",
    "    if run_name == 'Climate Change':\n",
    "        months = {1,2,3,4,5,6,7,8,9,10,11}\n",
    "\n",
    "    else: \n",
    "        months = {1,2,3,4,5,6,7,8,9,10,11,12}\n",
    "\n",
    "    \n",
    "    \n",
    "    year_data = []  # Dictionary to store month-value pairs\n",
    "\n",
    "    for month in months:\n",
    "        \n",
    "        month_str = f\"{month:02}\"\n",
    "        \n",
    "        if run_name == 'Solar Med':\n",
    "            filepath = f'/resstore/b0243/Data/Sporadic_E/Solar_Med/archive_yr2000/ACP_CESM213_FX2000_f19_f19_mg16_Na_Fe_Mg_iontransport.cam.h0.0001-{month_str}.nc'\n",
    "\n",
    "        elif run_name == 'Solar Max':\n",
    "            filepath = f'/resstore/b0243/Data/Sporadic_E/Solar_Max/archive_yr2000/atm/hist/SMax_3M_FX2000_f19f19mg16.cam.h0.0001-{month_str}.nc'\n",
    "    \n",
    "        elif run_name == 'Solar Min':\n",
    "            filepath = f'/resstore/b0243/Data/Sporadic_E/Solar_Min/archive_yr2000/atm/hist/SMin_3M_FX2000_f19f19mg16.cam.h0.0001-{month_str}.nc'\n",
    "\n",
    "        elif run_name == 'Climate Change':\n",
    "            filepath = f'/resstore/b0243/Data/Sporadic_E/FX2100f19f19mg16NaFeMgiontransport_OUTPUT/hist/FX2100f19f19mg16NaFeMgiontransport.cam.h0.2100-{month_str}.nc'\n",
    "    \n",
    "        month_avg =  met_col_mon_val(filepath, metal)\n",
    "        year_data.append(month_avg)\n",
    "        print(F'Month {month} done...')\n",
    "\n",
    "    return year_data    "
   ]
  },
  {
   "cell_type": "code",
   "execution_count": 31,
   "id": "51c90a3a-0545-4198-bd18-56ed2eee6b91",
   "metadata": {},
   "outputs": [],
   "source": [
    "metal = 'Mgp'"
   ]
  },
  {
   "cell_type": "code",
   "execution_count": 32,
   "id": "4c8e3f2c-d73f-4cf1-b697-451a17360144",
   "metadata": {},
   "outputs": [
    {
     "name": "stdout",
     "output_type": "stream",
     "text": [
      "Month 1 done...\n",
      "Month 2 done...\n",
      "Month 3 done...\n",
      "Month 4 done...\n",
      "Month 5 done...\n",
      "Month 6 done...\n",
      "Month 7 done...\n",
      "Month 8 done...\n",
      "Month 9 done...\n",
      "Month 10 done...\n",
      "Month 11 done...\n",
      "Month 12 done...\n",
      "Month 1 done...\n",
      "Month 2 done...\n",
      "Month 3 done...\n",
      "Month 4 done...\n",
      "Month 5 done...\n",
      "Month 6 done...\n",
      "Month 7 done...\n",
      "Month 8 done...\n",
      "Month 9 done...\n",
      "Month 10 done...\n",
      "Month 11 done...\n",
      "Month 12 done...\n",
      "Month 1 done...\n",
      "Month 2 done...\n",
      "Month 3 done...\n",
      "Month 4 done...\n",
      "Month 5 done...\n",
      "Month 6 done...\n",
      "Month 7 done...\n",
      "Month 8 done...\n",
      "Month 9 done...\n",
      "Month 10 done...\n",
      "Month 11 done...\n",
      "Month 12 done...\n",
      "Month 1 done...\n",
      "Month 2 done...\n",
      "Month 3 done...\n",
      "Month 4 done...\n",
      "Month 5 done...\n",
      "Month 6 done...\n",
      "Month 7 done...\n",
      "Month 8 done...\n",
      "Month 9 done...\n",
      "Month 10 done...\n",
      "Month 11 done...\n"
     ]
    }
   ],
   "source": [
    "run_name = 'Solar Med' # # OR # 'Solar Med'\n",
    "                            # 'Solar Max'\n",
    "                            # 'Solar Min'\n",
    "                            # 'Climate Change'\n",
    "\n",
    "med_Fe_avg = metal_layer_year_weighted(run_name)\n",
    "\n",
    "run_name = 'Solar Max'\n",
    "max_Fe_avg = metal_layer_year_weighted(run_name)\n",
    "\n",
    "run_name = 'Solar Min'\n",
    "min_Fe_avg = metal_layer_year_weighted(run_name)\n",
    "\n",
    "run_name = 'Climate Change'\n",
    "cli_Fe_avg = metal_layer_year_weighted(run_name)"
   ]
  },
  {
   "cell_type": "code",
   "execution_count": 33,
   "id": "1527f517-1e5c-4485-a12b-0fab09efe746",
   "metadata": {},
   "outputs": [
    {
     "data": {
      "image/png": "[encoded data removed]",
      "text/plain": [
       "<Figure size 640x480 with 1 Axes>"
      ]
     },
     "metadata": {},
     "output_type": "display_data"
    }
   ],
   "source": [
    "months = (1,2,3,4,5,6,7,8,9,10,11,12)\n",
    "\n",
    "fig, ax = plt.subplots()\n",
    "\n",
    "ax.plot(months, \n",
    "        med_Fe_avg,\n",
    "        color='black',\n",
    "        label='Solar Median')\n",
    "\n",
    "ax.plot(months, \n",
    "        max_Fe_avg,\n",
    "        color='green',\n",
    "        label='Solar Max')\n",
    "\n",
    "ax.plot(months, \n",
    "        min_Fe_avg,\n",
    "        color='blue',\n",
    "        label='Solar Min')\n",
    "\n",
    "ax.plot((1,2,3,4,5,6,7,8,9,10,11), \n",
    "        cli_Fe_avg,\n",
    "        color='red',\n",
    "        label='Year 2100')\n",
    "\n",
    "ax.set_title(f'Global average {metal} column abundance')\n",
    "ax.set_xlabel('Month')\n",
    "ax.set_ylabel(f'{metal} concentration (mol / mol)')\n",
    "ax.legend()\n",
    "plt.savefig(f'/home/home02/cm21cmr/Sporadic-E-Project/Figures/column_abun_{metal}', dpi=600, bbox_inches='tight')\n",
    "plt.show()"
   ]
  },
  {
   "cell_type": "code",
   "execution_count": null,
   "id": "1eaaa706-5eb6-4a9c-826b-0c2677f6e322",
   "metadata": {},
   "outputs": [],
   "source": []
  }
 ],
 "metadata": {
  "kernelspec": {
   "display_name": "Python 3 (ipykernel)",
   "language": "python",
   "name": "python3"
  },
  "language_info": {
   "codemirror_mode": {
    "name": "ipython",
    "version": 3
   },
   "file_extension": ".py",
   "mimetype": "text/x-python",
   "name": "python",
   "nbconvert_exporter": "python",
   "pygments_lexer": "ipython3",
   "version": "3.12.7"
  }
 },
 "nbformat": 4,
 "nbformat_minor": 5
}
