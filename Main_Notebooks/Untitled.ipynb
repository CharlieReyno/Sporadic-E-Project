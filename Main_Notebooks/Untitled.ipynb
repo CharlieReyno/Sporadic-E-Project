{
 "cells": [
  {
   "cell_type": "code",
   "execution_count": null,
   "id": "8ebf5688-7717-4bfe-b2c2-daaedccc4a6a",
   "metadata": {},
   "outputs": [],
   "source": [
    "fig, ax = plt.subplots()\n",
    "\n",
    "plot = ax.contourf(med_spr_SpEs_alt_lat['lat'], \n",
    "                   med_spr_alt,\n",
    "                   med_spr_SpEs_alt_lat)\n",
    "cbar = fig.colorbar(plot)\n",
    "# ax.set_ybound(1e-2, 1e-5)\n",
    "\n",
    "plt.show()"
   ]
  }
 ],
 "metadata": {
  "kernelspec": {
   "display_name": "Python 3 (ipykernel)",
   "language": "python",
   "name": "python3"
  },
  "language_info": {
   "codemirror_mode": {
    "name": "ipython",
    "version": 3
   },
   "file_extension": ".py",
   "mimetype": "text/x-python",
   "name": "python",
   "nbconvert_exporter": "python",
   "pygments_lexer": "ipython3",
   "version": "3.12.7"
  }
 },
 "nbformat": 4,
 "nbformat_minor": 5
}
